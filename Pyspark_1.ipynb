{
  "nbformat": 4,
  "nbformat_minor": 0,
  "metadata": {
    "colab": {
      "provenance": []
    },
    "kernelspec": {
      "name": "python3",
      "display_name": "Python 3"
    },
    "language_info": {
      "name": "python"
    }
  },
  "cells": [
    {
      "cell_type": "markdown",
      "source": [
        "### Instalación de pyspark y librerías"
      ],
      "metadata": {
        "id": "W8OnNZrjbMQG"
      }
    },
    {
      "cell_type": "code",
      "source": [
        "!pip install pyspark\n",
        "!pip install -U -q PyDriver\n",
        "!apt update\n",
        "!apt install openjdk-8-jdk-headless -qq\n",
        "\n",
        "import os\n",
        "os.environ[\"JAVA_HOME\"] = \"/usr/lib/jvm/java-8-openjdk-amd64\""
      ],
      "metadata": {
        "colab": {
          "base_uri": "https://localhost:8080/"
        },
        "id": "NQHxsi7OmdCM",
        "outputId": "17d0b737-6c0d-4c4b-a2c6-e901a5f27767"
      },
      "execution_count": null,
      "outputs": [
        {
          "output_type": "stream",
          "name": "stdout",
          "text": [
            "Requirement already satisfied: pyspark in /usr/local/lib/python3.11/dist-packages (3.5.1)\n",
            "Requirement already satisfied: py4j==0.10.9.7 in /usr/local/lib/python3.11/dist-packages (from pyspark) (0.10.9.7)\n",
            "  \u001b[1;31merror\u001b[0m: \u001b[1msubprocess-exited-with-error\u001b[0m\n",
            "  \n",
            "  \u001b[31m×\u001b[0m \u001b[32mpython setup.py egg_info\u001b[0m did not run successfully.\n",
            "  \u001b[31m│\u001b[0m exit code: \u001b[1;36m1\u001b[0m\n",
            "  \u001b[31m╰─>\u001b[0m See above for output.\n",
            "  \n",
            "  \u001b[1;35mnote\u001b[0m: This error originates from a subprocess, and is likely not a problem with pip.\n",
            "  Preparing metadata (setup.py) ... \u001b[?25l\u001b[?25herror\n",
            "\u001b[1;31merror\u001b[0m: \u001b[1mmetadata-generation-failed\u001b[0m\n",
            "\n",
            "\u001b[31m×\u001b[0m Encountered error while generating package metadata.\n",
            "\u001b[31m╰─>\u001b[0m See above for output.\n",
            "\n",
            "\u001b[1;35mnote\u001b[0m: This is an issue with the package mentioned above, not pip.\n",
            "\u001b[1;36mhint\u001b[0m: See above for details.\n",
            "Hit:1 https://cloud.r-project.org/bin/linux/ubuntu jammy-cran40/ InRelease\n",
            "Hit:2 https://developer.download.nvidia.com/compute/cuda/repos/ubuntu2204/x86_64  InRelease\n",
            "Hit:3 http://archive.ubuntu.com/ubuntu jammy InRelease\n",
            "Hit:4 http://archive.ubuntu.com/ubuntu jammy-updates InRelease\n",
            "Hit:5 http://security.ubuntu.com/ubuntu jammy-security InRelease\n",
            "Hit:6 https://r2u.stat.illinois.edu/ubuntu jammy InRelease\n",
            "Hit:7 http://archive.ubuntu.com/ubuntu jammy-backports InRelease\n",
            "Hit:8 https://ppa.launchpadcontent.net/deadsnakes/ppa/ubuntu jammy InRelease\n",
            "Hit:9 https://ppa.launchpadcontent.net/graphics-drivers/ppa/ubuntu jammy InRelease\n",
            "Hit:10 https://ppa.launchpadcontent.net/ubuntugis/ppa/ubuntu jammy InRelease\n",
            "Reading package lists... Done\n",
            "Building dependency tree... Done\n",
            "Reading state information... Done\n",
            "34 packages can be upgraded. Run 'apt list --upgradable' to see them.\n",
            "\u001b[1;33mW: \u001b[0mSkipping acquire of configured file 'main/source/Sources' as repository 'https://r2u.stat.illinois.edu/ubuntu jammy InRelease' does not seem to provide it (sources.list entry misspelt?)\u001b[0m\n",
            "openjdk-8-jdk-headless is already the newest version (8u452-ga~us1-0ubuntu1~22.04).\n",
            "0 upgraded, 0 newly installed, 0 to remove and 34 not upgraded.\n"
          ]
        }
      ]
    },
    {
      "cell_type": "code",
      "source": [
        "from google.colab import drive\n",
        "drive.mount('/content/drive')"
      ],
      "metadata": {
        "colab": {
          "base_uri": "https://localhost:8080/"
        },
        "id": "-P1tDPSim-T2",
        "outputId": "56f7056a-b767-46f3-8cb0-91b8120a6c44"
      },
      "execution_count": null,
      "outputs": [
        {
          "output_type": "stream",
          "name": "stdout",
          "text": [
            "Drive already mounted at /content/drive; to attempt to forcibly remount, call drive.mount(\"/content/drive\", force_remount=True).\n"
          ]
        }
      ]
    },
    {
      "cell_type": "code",
      "source": [
        "from pydrive2.auth import GoogleAuth\n",
        "from pydrive2.drive import GoogleDrive\n",
        "from google.colab import auth\n",
        "from oauth2client.client import GoogleCredentials\n",
        "from pyspark.sql import *\n",
        "from pyspark.sql.functions import *\n",
        "from pyspark import SparkContext\n",
        "from pyspark.sql import SQLContext\n",
        "import pandas as pd\n",
        "from operator import add\n",
        "\n",
        "import matplotlib.pyplot as plt\n",
        "import seaborn as sns"
      ],
      "metadata": {
        "id": "qMulfxh_nRXn"
      },
      "execution_count": null,
      "outputs": []
    },
    {
      "cell_type": "code",
      "source": [
        "!pip install --quiet findspark\n",
        "import findspark\n",
        "findspark.init()"
      ],
      "metadata": {
        "id": "JHv3UY0IoCrf"
      },
      "execution_count": null,
      "outputs": []
    },
    {
      "cell_type": "markdown",
      "source": [
        "### Crear sesión de Pyspark"
      ],
      "metadata": {
        "id": "LpwTcbYsbWSH"
      }
    },
    {
      "cell_type": "code",
      "source": [
        "spark = SparkSession.builder \\\n",
        "    .appName(\"Pandas with PySpark\") \\\n",
        "    .getOrCreate()"
      ],
      "metadata": {
        "id": "ufBpWHSOoSoN"
      },
      "execution_count": null,
      "outputs": []
    },
    {
      "cell_type": "code",
      "source": [
        "spark = SparkSession.builder.getOrCreate()"
      ],
      "metadata": {
        "id": "gmGDgeayr5BM"
      },
      "execution_count": null,
      "outputs": []
    },
    {
      "cell_type": "markdown",
      "source": [
        "### Leemos las bases de datos"
      ],
      "metadata": {
        "id": "Zv8fMr-pbbMg"
      }
    },
    {
      "cell_type": "code",
      "source": [
        "df_deudor = spark.read.csv(\"h_deudor_13000.csv\", header=True, inferSchema=True)"
      ],
      "metadata": {
        "id": "D919FIOEtJk2"
      },
      "execution_count": null,
      "outputs": []
    },
    {
      "cell_type": "code",
      "source": [
        "df_deudor.show(10)"
      ],
      "metadata": {
        "id": "RuWhrWSdtOq8",
        "outputId": "613b2c67-66d8-40bc-ad04-f1be6de474c1",
        "colab": {
          "base_uri": "https://localhost:8080/"
        }
      },
      "execution_count": null,
      "outputs": [
        {
          "output_type": "stream",
          "name": "stdout",
          "text": [
            "+------+---------+------------+-------------------+------------+-------------------+------------+-------------------+---------------------+\n",
            "|CODMES|clienteID|FLAG_BANCO_A|MONTO_DEUDA_BANCO_A|FLAG_BANCO_B|MONTO_DEUDA_BANCO_B|FLAG_BANCO_C|MONTO_DEUDA_BANCO_C|MONTO_DEUDA_USD_TOTAL|\n",
            "+------+---------+------------+-------------------+------------+-------------------+------------+-------------------+---------------------+\n",
            "|202401| CL000001|           1|             830.04|           0|                0.0|           1|            3216.42|              4046.46|\n",
            "|202401| CL000002|           0|                0.0|           0|                0.0|           0|                0.0|                  0.0|\n",
            "|202401| CL000003|           1|             1348.1|           1|             6099.6|           1|            4756.13|             12203.83|\n",
            "|202401| CL000004|           1|           27578.45|           1|            5271.25|           1|            1420.05|             34269.75|\n",
            "|202401| CL000005|           0|                0.0|           1|           21963.53|           1|            3779.54|             25743.07|\n",
            "|202401| CL000006|           0|                0.0|           0|                0.0|           1|            2846.72|              2846.72|\n",
            "|202401| CL000007|           1|            1051.08|           1|            7947.98|           1|           10554.17|             19553.23|\n",
            "|202401| CL000008|           0|                0.0|           1|             1690.1|           1|            5154.76|              6844.86|\n",
            "|202401| CL000009|           0|                0.0|           0|                0.0|           1|            5190.51|              5190.51|\n",
            "|202401| CL000010|           1|             370.07|           0|                0.0|           1|            5739.11|              6109.18|\n",
            "+------+---------+------------+-------------------+------------+-------------------+------------+-------------------+---------------------+\n",
            "only showing top 10 rows\n",
            "\n"
          ]
        }
      ]
    },
    {
      "cell_type": "code",
      "source": [
        "df_deudor.columns"
      ],
      "metadata": {
        "colab": {
          "base_uri": "https://localhost:8080/"
        },
        "id": "2gARxK3FnP4X",
        "outputId": "d208f309-f817-42e8-8c7e-447d77802ed4"
      },
      "execution_count": null,
      "outputs": [
        {
          "output_type": "execute_result",
          "data": {
            "text/plain": [
              "['CODMES',\n",
              " 'clienteID',\n",
              " 'FLAG_BANCO_A',\n",
              " 'MONTO_DEUDA_BANCO_A',\n",
              " 'FLAG_BANCO_B',\n",
              " 'MONTO_DEUDA_BANCO_B',\n",
              " 'FLAG_BANCO_C',\n",
              " 'MONTO_DEUDA_BANCO_C',\n",
              " 'MONTO_DEUDA_USD_TOTAL']"
            ]
          },
          "metadata": {},
          "execution_count": 82
        }
      ]
    },
    {
      "cell_type": "code",
      "source": [
        "df_deudor.count()"
      ],
      "metadata": {
        "colab": {
          "base_uri": "https://localhost:8080/"
        },
        "id": "PmNCQISqmifZ",
        "outputId": "7bece33c-159b-4c97-82a4-68ef7da6d8fb"
      },
      "execution_count": null,
      "outputs": [
        {
          "output_type": "execute_result",
          "data": {
            "text/plain": [
              "13000"
            ]
          },
          "metadata": {},
          "execution_count": 78
        }
      ]
    },
    {
      "cell_type": "code",
      "source": [
        "df_deudor.select('CODMES').distinct().orderBy('CODMES').show()"
      ],
      "metadata": {
        "colab": {
          "base_uri": "https://localhost:8080/"
        },
        "id": "hvtKKAy2b19u",
        "outputId": "2c9cfbd5-9557-4184-9f43-b4e07e9f1854"
      },
      "execution_count": null,
      "outputs": [
        {
          "output_type": "stream",
          "name": "stdout",
          "text": [
            "+------+\n",
            "|CODMES|\n",
            "+------+\n",
            "|202401|\n",
            "|202402|\n",
            "|202403|\n",
            "|202404|\n",
            "|202405|\n",
            "|202406|\n",
            "|202407|\n",
            "|202408|\n",
            "|202409|\n",
            "|202410|\n",
            "|202411|\n",
            "|202412|\n",
            "|202501|\n",
            "+------+\n",
            "\n"
          ]
        }
      ]
    },
    {
      "cell_type": "code",
      "source": [
        "df_demo = spark.read.csv(\"h_demografico_13000.csv\", header=True, inferSchema=True)"
      ],
      "metadata": {
        "id": "1Fh7ROg-bILO"
      },
      "execution_count": null,
      "outputs": []
    },
    {
      "cell_type": "code",
      "source": [
        "df_demo.show(10)"
      ],
      "metadata": {
        "colab": {
          "base_uri": "https://localhost:8080/"
        },
        "id": "x4RwewZXbrGm",
        "outputId": "3fba94b7-fa7d-4cb2-e079-027ce8d7ae22"
      },
      "execution_count": null,
      "outputs": [
        {
          "output_type": "stream",
          "name": "stdout",
          "text": [
            "+------+---------+--------+-------+----+--------+\n",
            "|CODMES|clienteID|segmento|NUMEDSD|SEXO|ESTCIVIL|\n",
            "+------+---------+--------+-------+----+--------+\n",
            "|202401| CL000001|Personas|   33.0| fem|     viu|\n",
            "|202401| CL000002|Personas|   28.0| mas|     div|\n",
            "|202401| CL000003| Empresa|   NULL|NULL|    NULL|\n",
            "|202401| CL000004| Empresa|   NULL|NULL|    NULL|\n",
            "|202401| CL000005| Empresa|   NULL|NULL|    NULL|\n",
            "|202401| CL000006|Personas|   18.0| fem|     cas|\n",
            "|202401| CL000007| Empresa|   NULL|NULL|    NULL|\n",
            "|202401| CL000008| Empresa|   NULL|NULL|    NULL|\n",
            "|202401| CL000009|Personas|   36.0| fem|     div|\n",
            "|202401| CL000010|Personas|   31.0| fem|     viu|\n",
            "+------+---------+--------+-------+----+--------+\n",
            "only showing top 10 rows\n",
            "\n"
          ]
        }
      ]
    },
    {
      "cell_type": "code",
      "source": [
        "df_demo.select('CODMES').distinct().orderBy('CODMES').show()"
      ],
      "metadata": {
        "colab": {
          "base_uri": "https://localhost:8080/"
        },
        "id": "48rXp0V7cL13",
        "outputId": "f6946ebb-873d-45f0-8061-071cb421aef3"
      },
      "execution_count": null,
      "outputs": [
        {
          "output_type": "stream",
          "name": "stdout",
          "text": [
            "+------+\n",
            "|CODMES|\n",
            "+------+\n",
            "|202401|\n",
            "|202402|\n",
            "|202403|\n",
            "|202404|\n",
            "|202405|\n",
            "|202406|\n",
            "|202407|\n",
            "|202408|\n",
            "|202409|\n",
            "|202410|\n",
            "|202411|\n",
            "|202412|\n",
            "|202501|\n",
            "+------+\n",
            "\n"
          ]
        }
      ]
    },
    {
      "cell_type": "code",
      "source": [
        "# Unir ambas tablas\n",
        "df = df_deudor.join(df_demo, on=[\"clienteID\", \"CODMES\"], how=\"left\")"
      ],
      "metadata": {
        "id": "cjlNou8xbwqF"
      },
      "execution_count": null,
      "outputs": []
    },
    {
      "cell_type": "code",
      "source": [
        "df.show(10)"
      ],
      "metadata": {
        "colab": {
          "base_uri": "https://localhost:8080/"
        },
        "id": "dMYTKNtZdajH",
        "outputId": "763603cb-c85d-488a-b1b8-6933ffc5bfd5"
      },
      "execution_count": null,
      "outputs": [
        {
          "output_type": "stream",
          "name": "stdout",
          "text": [
            "+---------+------+------------+-------------------+------------+-------------------+------------+-------------------+---------------------+--------+-------+----+--------+\n",
            "|clienteID|CODMES|FLAG_BANCO_A|MONTO_DEUDA_BANCO_A|FLAG_BANCO_B|MONTO_DEUDA_BANCO_B|FLAG_BANCO_C|MONTO_DEUDA_BANCO_C|MONTO_DEUDA_USD_TOTAL|segmento|NUMEDSD|SEXO|ESTCIVIL|\n",
            "+---------+------+------------+-------------------+------------+-------------------+------------+-------------------+---------------------+--------+-------+----+--------+\n",
            "| CL000001|202401|           1|             830.04|           0|                0.0|           1|            3216.42|              4046.46|Personas|   33.0| fem|     viu|\n",
            "| CL000002|202401|           0|                0.0|           0|                0.0|           0|                0.0|                  0.0|Personas|   28.0| mas|     div|\n",
            "| CL000003|202401|           1|             1348.1|           1|             6099.6|           1|            4756.13|             12203.83| Empresa|   NULL|NULL|    NULL|\n",
            "| CL000004|202401|           1|           27578.45|           1|            5271.25|           1|            1420.05|             34269.75| Empresa|   NULL|NULL|    NULL|\n",
            "| CL000005|202401|           0|                0.0|           1|           21963.53|           1|            3779.54|             25743.07| Empresa|   NULL|NULL|    NULL|\n",
            "| CL000006|202401|           0|                0.0|           0|                0.0|           1|            2846.72|              2846.72|Personas|   18.0| fem|     cas|\n",
            "| CL000007|202401|           1|            1051.08|           1|            7947.98|           1|           10554.17|             19553.23| Empresa|   NULL|NULL|    NULL|\n",
            "| CL000008|202401|           0|                0.0|           1|             1690.1|           1|            5154.76|              6844.86| Empresa|   NULL|NULL|    NULL|\n",
            "| CL000009|202401|           0|                0.0|           0|                0.0|           1|            5190.51|              5190.51|Personas|   36.0| fem|     div|\n",
            "| CL000010|202401|           1|             370.07|           0|                0.0|           1|            5739.11|              6109.18|Personas|   31.0| fem|     viu|\n",
            "+---------+------+------------+-------------------+------------+-------------------+------------+-------------------+---------------------+--------+-------+----+--------+\n",
            "only showing top 10 rows\n",
            "\n"
          ]
        }
      ]
    },
    {
      "cell_type": "code",
      "source": [
        "df.columns"
      ],
      "metadata": {
        "colab": {
          "base_uri": "https://localhost:8080/"
        },
        "id": "xQfhMio4dhvq",
        "outputId": "a45df285-cfa6-41f5-c589-a074d742d19e"
      },
      "execution_count": null,
      "outputs": [
        {
          "output_type": "execute_result",
          "data": {
            "text/plain": [
              "['clienteID',\n",
              " 'CODMES',\n",
              " 'FLAG_BANCO_A',\n",
              " 'MONTO_DEUDA_BANCO_A',\n",
              " 'FLAG_BANCO_B',\n",
              " 'MONTO_DEUDA_BANCO_B',\n",
              " 'FLAG_BANCO_C',\n",
              " 'MONTO_DEUDA_BANCO_C',\n",
              " 'MONTO_DEUDA_USD_TOTAL',\n",
              " 'segmento',\n",
              " 'NUMEDSD',\n",
              " 'SEXO',\n",
              " 'ESTCIVIL']"
            ]
          },
          "metadata": {},
          "execution_count": 50
        }
      ]
    },
    {
      "cell_type": "markdown",
      "source": [
        "### Descriptivo de tablas"
      ],
      "metadata": {
        "id": "9Qe3tcB5hNc8"
      }
    },
    {
      "cell_type": "code",
      "source": [
        "# Variables numéricas\n",
        "numericas = [\n",
        "    'MONTO_DEUDA_BANCO_A', 'MONTO_DEUDA_BANCO_B',\n",
        "    'MONTO_DEUDA_BANCO_C', 'MONTO_DEUDA_USD_TOTAL', 'NUMEDSD'\n",
        "]\n",
        "\n",
        "# Estadísticos descriptivos para variables numéricas\n",
        "df.select(numericas).describe().show()"
      ],
      "metadata": {
        "colab": {
          "base_uri": "https://localhost:8080/"
        },
        "id": "mrKI6WDZeWT9",
        "outputId": "4262fbcd-464f-4907-ea4c-e5478ae4b3f4"
      },
      "execution_count": null,
      "outputs": [
        {
          "output_type": "stream",
          "name": "stdout",
          "text": [
            "+-------+-------------------+-------------------+-------------------+---------------------+------------------+\n",
            "|summary|MONTO_DEUDA_BANCO_A|MONTO_DEUDA_BANCO_B|MONTO_DEUDA_BANCO_C|MONTO_DEUDA_USD_TOTAL|           NUMEDSD|\n",
            "+-------+-------------------+-------------------+-------------------+---------------------+------------------+\n",
            "|  count|              13000|              13000|              13000|                13000|              6539|\n",
            "|   mean|  4779.593784615396|  4811.542536153838|   4716.03707076922|    14307.17339153843|  39.4572564612326|\n",
            "| stddev|  8340.210171673363|  8492.471687740524|  8421.050714726338|   14516.466135075083|12.914280792637475|\n",
            "|    min|                0.0|                0.0|                0.0|                  0.0|              18.0|\n",
            "|    max|           49903.42|           49841.43|           49879.28|             49999.28|              60.0|\n",
            "+-------+-------------------+-------------------+-------------------+---------------------+------------------+\n",
            "\n"
          ]
        }
      ]
    },
    {
      "cell_type": "code",
      "source": [
        "df.groupBy('sexo').count().show()"
      ],
      "metadata": {
        "colab": {
          "base_uri": "https://localhost:8080/"
        },
        "id": "6VDwDPeZfHFa",
        "outputId": "47bf76e3-7513-49d9-ff1d-3f90bc3798d1"
      },
      "execution_count": null,
      "outputs": [
        {
          "output_type": "stream",
          "name": "stdout",
          "text": [
            "+----+-----+\n",
            "|sexo|count|\n",
            "+----+-----+\n",
            "|NULL| 6461|\n",
            "| fem| 3393|\n",
            "| mas| 3146|\n",
            "+----+-----+\n",
            "\n"
          ]
        }
      ]
    },
    {
      "cell_type": "code",
      "source": [
        "df.groupBy('NUMEDSD').count().orderBy('NUMEDSD').show(50)"
      ],
      "metadata": {
        "colab": {
          "base_uri": "https://localhost:8080/"
        },
        "id": "2ZOKElp-eyPZ",
        "outputId": "6e17effd-a66c-4fcc-f6d3-869bb0193677"
      },
      "execution_count": null,
      "outputs": [
        {
          "output_type": "stream",
          "name": "stdout",
          "text": [
            "+-------+-----+\n",
            "|NUMEDSD|count|\n",
            "+-------+-----+\n",
            "|   NULL| 6461|\n",
            "|   18.0|  182|\n",
            "|   19.0|  169|\n",
            "|   20.0|  195|\n",
            "|   21.0|  156|\n",
            "|   22.0|  104|\n",
            "|   23.0|  143|\n",
            "|   24.0|  208|\n",
            "|   25.0|  117|\n",
            "|   26.0|  130|\n",
            "|   27.0|  117|\n",
            "|   28.0|  156|\n",
            "|   29.0|  130|\n",
            "|   30.0|  156|\n",
            "|   31.0|  208|\n",
            "|   32.0|  143|\n",
            "|   33.0|  117|\n",
            "|   34.0|  143|\n",
            "|   35.0|  195|\n",
            "|   36.0|  104|\n",
            "|   37.0|  143|\n",
            "|   38.0|  130|\n",
            "|   39.0|   91|\n",
            "|   40.0|  143|\n",
            "|   41.0|  156|\n",
            "|   42.0|  143|\n",
            "|   43.0|  130|\n",
            "|   44.0|  143|\n",
            "|   45.0|  130|\n",
            "|   46.0|  130|\n",
            "|   47.0|  130|\n",
            "|   48.0|  104|\n",
            "|   49.0|  104|\n",
            "|   50.0|   65|\n",
            "|   51.0|  221|\n",
            "|   52.0|  195|\n",
            "|   53.0|  208|\n",
            "|   54.0|  221|\n",
            "|   55.0|  195|\n",
            "|   56.0|  208|\n",
            "|   57.0|  221|\n",
            "|   58.0|  182|\n",
            "|   59.0|  156|\n",
            "|   60.0|  117|\n",
            "+-------+-----+\n",
            "\n"
          ]
        }
      ]
    },
    {
      "cell_type": "code",
      "source": [
        "df.groupBy('flag_banco_a').count().show()"
      ],
      "metadata": {
        "colab": {
          "base_uri": "https://localhost:8080/"
        },
        "id": "9EsfJfwbheDy",
        "outputId": "84d85127-c10a-4fd1-e413-4ba88548f7ed"
      },
      "execution_count": null,
      "outputs": [
        {
          "output_type": "stream",
          "name": "stdout",
          "text": [
            "+------------+-----+\n",
            "|flag_banco_a|count|\n",
            "+------------+-----+\n",
            "|           1| 8931|\n",
            "|           0| 4069|\n",
            "+------------+-----+\n",
            "\n"
          ]
        }
      ]
    },
    {
      "cell_type": "code",
      "source": [
        "df.groupBy('segmento').count().show()"
      ],
      "metadata": {
        "colab": {
          "base_uri": "https://localhost:8080/"
        },
        "id": "sgBPeBvUiV9_",
        "outputId": "64eb43de-798f-4328-cf47-726fd650445e"
      },
      "execution_count": null,
      "outputs": [
        {
          "output_type": "stream",
          "name": "stdout",
          "text": [
            "+--------+-----+\n",
            "|segmento|count|\n",
            "+--------+-----+\n",
            "|Personas| 6539|\n",
            "| Empresa| 6461|\n",
            "+--------+-----+\n",
            "\n"
          ]
        }
      ]
    },
    {
      "cell_type": "code",
      "source": [
        "# Sumar los valores de los flags (suponiendo que 1 = tiene deuda)\n",
        "flag_sums = df.select([\n",
        "    sum(\"FLAG_BANCO_A\").alias(\"BANCO_A\"),\n",
        "    sum(\"FLAG_BANCO_B\").alias(\"BANCO_B\"),\n",
        "    sum(\"FLAG_BANCO_C\").alias(\"BANCO_C\")\n",
        "])\n",
        "\n",
        "# Convertir a pandas para graficar\n",
        "flag_pd = flag_sums.toPandas().T.reset_index()\n",
        "flag_pd.columns = ['Banco', 'Total']\n",
        "\n",
        "# Graficar\n",
        "plt.figure(figsize=(5, 4))\n",
        "sns.barplot(data=flag_pd, x='Banco', y='Total', palette='pastel')\n",
        "for index, row in flag_pd.iterrows():\n",
        "    plt.text(index, row['Total'] + 10, int(row['Total']), ha='center')\n",
        "plt.title(\"Clientes con deuda por banco\")\n",
        "plt.ylabel(\"Cantidad de clientes\")\n",
        "plt.xlabel(\"Banco\")\n",
        "plt.tight_layout()\n",
        "plt.show()"
      ],
      "metadata": {
        "colab": {
          "base_uri": "https://localhost:8080/",
          "height": 498
        },
        "id": "rZvuvADlfO6K",
        "outputId": "2d7512b6-46de-4b4e-d672-56de661e0c72"
      },
      "execution_count": null,
      "outputs": [
        {
          "output_type": "stream",
          "name": "stderr",
          "text": [
            "<ipython-input-74-8d2f26d06c18>:14: FutureWarning: \n",
            "\n",
            "Passing `palette` without assigning `hue` is deprecated and will be removed in v0.14.0. Assign the `x` variable to `hue` and set `legend=False` for the same effect.\n",
            "\n",
            "  sns.barplot(data=flag_pd, x='Banco', y='Total', palette='pastel', legend= True)\n"
          ]
        },
        {
          "output_type": "display_data",
          "data": {
            "text/plain": [
              "<Figure size 500x400 with 1 Axes>"
            ],
            "image/png": "[encoded data removed]"
          },
          "metadata": {}
        }
      ]
    },
    {
      "cell_type": "markdown",
      "source": [
        "### Otros"
      ],
      "metadata": {
        "id": "G6KCsQUBbJC8"
      }
    },
    {
      "cell_type": "code",
      "source": [
        "import pandas as pd\n",
        "\n",
        "# Ejemplo de DataFrame de pandas\n",
        "pdf = pd.DataFrame({\n",
        "    \"nombre\": [\"Ana\", \"Luis\", \"Juan\"],\n",
        "    \"edad\": [23, 30, 25]\n",
        "})\n",
        "\n",
        "# Convertir pandas a pyspark\n",
        "df_spark = spark.createDataFrame(pdf)\n",
        "\n",
        "# Mostrarlo\n",
        "df_spark.show()"
      ],
      "metadata": {
        "colab": {
          "base_uri": "https://localhost:8080/"
        },
        "id": "RfBrANWZp3L5",
        "outputId": "b891a2e3-7ed4-41c3-a5d6-77dd318d695c"
      },
      "execution_count": null,
      "outputs": [
        {
          "output_type": "stream",
          "name": "stdout",
          "text": [
            "+------+----+\n",
            "|nombre|edad|\n",
            "+------+----+\n",
            "|   Ana|  23|\n",
            "|  Luis|  30|\n",
            "|  Juan|  25|\n",
            "+------+----+\n",
            "\n"
          ]
        }
      ]
    }
  ]
}